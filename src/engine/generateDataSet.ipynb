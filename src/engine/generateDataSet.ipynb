{
 "cells": [
  {
   "attachments": {},
   "cell_type": "markdown",
   "metadata": {},
   "source": [
    "# **Generate data for database**\n",
    "\n",
    "Author: Le Duc Quan<br>\n",
    "Introduce: This file will generate based on folder ./dataset <br>\n",
    "Input: ./dataset folder<br>\n",
    "Output: ./output folder : contains json file represent for each table<br>"
   ]
  },
  {
   "cell_type": "code",
   "execution_count": 11,
   "metadata": {},
   "outputs": [
    {
     "name": "stdout",
     "output_type": "stream",
     "text": [
      "Start generate data\n"
     ]
    }
   ],
   "source": [
    "import csv\n",
    "import json\n",
    "import numpy as np\n",
    "\n",
    "# CONFIG\n",
    "\n",
    "print(\"Start generate data\")\n",
    "\n",
    "ITEMS = 5  # Not able to change\n",
    "VOUCHERS = 5    # Note: <= 5\n",
    "USERS = 30  # Note: <= 30, if you want more, add more data in folder ./dataset/users.csv\n",
    "SHIPPING_ADDRESS = 50 # Note: <= 50\n",
    "ORDERS = USERS*4\n",
    "\n",
    "status_pending = ORDERS*4//5\n",
    "status_successful = ORDERS*1//9\n",
    "status_cancel = ORDERS - status_pending - status_successful\n",
    "NULL_VOUCHER = ORDERS*3//5\n",
    "\n",
    "MAX_ITEMS_PER_ORDERS = 2\n",
    "MAX_QUANLITY = 3\n",
    "\n",
    "STAFFS = 3 # FIX"
   ]
  },
  {
   "attachments": {},
   "cell_type": "markdown",
   "metadata": {},
   "source": [
    "### **1. Generate data for users table**"
   ]
  },
  {
   "cell_type": "code",
   "execution_count": 12,
   "metadata": {},
   "outputs": [],
   "source": [
    "# Write it to ./output/users.json\n",
    "\n",
    "\n",
    "csv_file_path_user = \"./dataset/users.csv\"\n",
    "json_file_path_user = \"./output/users.json\"\n",
    "\n",
    "# Open the CSV file and read its contents\n",
    "with open(csv_file_path_user, newline='') as csv_file:\n",
    "    csv_data = csv.DictReader(csv_file)\n",
    "\n",
    "    # Convert the CSV data to a list of dictionaries\n",
    "    data_list = []\n",
    "    i = 0\n",
    "    for row in csv_data:\n",
    "        data_list.append(row)\n",
    "        i += 1\n",
    "        if i == USERS:\n",
    "            break\n",
    "\n",
    "# Write the converted data to a JSON file\n",
    "with open(json_file_path_user, \"w\", encoding='utf-8') as json_file:\n",
    "    json.dump(data_list, json_file)\n",
    "\n",
    "\n"
   ]
  },
  {
   "attachments": {},
   "cell_type": "markdown",
   "metadata": {},
   "source": [
    "### **2. Generate data for vouchers table**"
   ]
  },
  {
   "cell_type": "code",
   "execution_count": 13,
   "metadata": {},
   "outputs": [],
   "source": [
    "# Write it to vouchers_table\n",
    "\n",
    "\n",
    "csv_file_path_voucher = \"./dataset/vouchers.csv\"\n",
    "json_file_path_voucher = \"./output/vouchers.json\"\n",
    "\n",
    "# Open the CSV file and read its contents\n",
    "with open(csv_file_path_voucher, newline='') as csv_file:\n",
    "    csv_data = csv.DictReader(csv_file)\n",
    "\n",
    "    # Convert the CSV data to a list of dictionaries\n",
    "    data_list = []\n",
    "    i = 0\n",
    "    for row in csv_data:\n",
    "        data_list.append(row)\n",
    "        i += 1\n",
    "        if i == VOUCHERS:\n",
    "            break\n",
    "\n",
    "# Write the converted data to a JSON file\n",
    "with open(json_file_path_voucher, \"w\",encoding='utf-8') as json_file:\n",
    "    json.dump(data_list, json_file)\n",
    "\n",
    "map_vouchers_value = {}\n",
    "for i in range(len(data_list)):\n",
    "    map_vouchers_value[i+1] = int(data_list[i]['value'])\n",
    "\n",
    "# Generate voucher for each orders\n",
    "voucher_order = [np.random.randint(1,VOUCHERS+1) for i in range(ORDERS-NULL_VOUCHER)]\n",
    "voucher_order.extend([None for i in range(NULL_VOUCHER)])\n",
    "np.random.shuffle(voucher_order)"
   ]
  },
  {
   "attachments": {},
   "cell_type": "markdown",
   "metadata": {},
   "source": [
    "### **3. Generate data for items table**"
   ]
  },
  {
   "cell_type": "code",
   "execution_count": 14,
   "metadata": {},
   "outputs": [
    {
     "data": {
      "text/plain": [
       "{1: 49000, 2: 39000, 3: 29000, 4: 45000, 5: 29000}"
      ]
     },
     "execution_count": 14,
     "metadata": {},
     "output_type": "execute_result"
    }
   ],
   "source": [
    "# Write it to items_table\n",
    "# Nothing\n",
    "\n",
    "# Open the JSON file for reading\n",
    "with open('./output/items.json', 'r',encoding='utf-8') as f:\n",
    "    # Load the JSON data from the file\n",
    "    items_list = json.load(f)\n",
    "\n",
    "map_item_price = {}\n",
    "for i in range(len(items_list)):\n",
    "    map_item_price[i+1] = items_list[i][\"price\"]\n",
    "map_item_price\n"
   ]
  },
  {
   "attachments": {},
   "cell_type": "markdown",
   "metadata": {},
   "source": [
    "### **4. Generate data for Orders and Orderdetails table**"
   ]
  },
  {
   "cell_type": "code",
   "execution_count": 15,
   "metadata": {},
   "outputs": [
    {
     "name": "stdout",
     "output_type": "stream",
     "text": [
      "Done\n"
     ]
    }
   ],
   "source": [
    "# Generate id for users\n",
    "random_users_id = np.random.randint(1, USERS+1, ORDERS)\n",
    "\n",
    "\n",
    "# Generate status for each orders\n",
    "status_order = [0 for i in range(status_pending)]\n",
    "status_order.extend([1 for i in range(status_successful)])\n",
    "status_order.extend([-1 for i in range(status_cancel)])\n",
    "np.random.shuffle(status_order)\n",
    "\n",
    "# Store shipping_address\n",
    "with open('./dataset/shipping_address.txt', 'r',encoding='utf-8') as f:\n",
    "    arr_address = f.read().split('\\n')\n",
    "\n",
    "# Store staff_name\n",
    "with open('./dataset/staff_name.txt', 'r',encoding='utf-8') as f:\n",
    "    arr_staff = f.read().split('\\n')\n",
    "\n",
    "# Generate order detail\n",
    "order_details = []\n",
    "orders = []\n",
    "order_id = 0\n",
    "\n",
    "for user_id in random_users_id:\n",
    "    # Define number of items\n",
    "    n_items = np.random.randint(1, MAX_ITEMS_PER_ORDERS+1)\n",
    "    # Generate item type\n",
    "    tmp =  [i for i in range(1,ITEMS+1)]\n",
    "    np.random.shuffle(tmp)\n",
    "    items_id = tmp[:n_items]\n",
    "    total_price = 0\n",
    "\n",
    "    status = status_order[order_id]\n",
    "    voucher_id = voucher_order[order_id]\n",
    "\n",
    "    for i in range(n_items):\n",
    "        item_id = items_id[i]\n",
    "        quanlity = np.random.randint(1,MAX_QUANLITY)\n",
    "        total_price += quanlity * map_item_price[item_id]\n",
    "        order_details.append({\"item_id\": int(item_id),\n",
    "                             \"order_id\": int(order_id + 1),\n",
    "                             \"quantity\": int(quanlity)})\n",
    "    if voucher_id != None:\n",
    "        total_price -= map_vouchers_value[voucher_id]\n",
    "\n",
    "    orders.append({\n",
    "        \"id\": int(order_id + 1),\n",
    "        \"total_price\": int(total_price), # OK\n",
    "        \"payment\": int(1), # OK\n",
    "        \"status\": int(status), # OK\n",
    "        \"staff_name\": arr_staff[np.random.randint(0,len(arr_staff))], # OK\n",
    "        \"shipping_address\": arr_address[np.random.randint(0,len(arr_address))], # OK\n",
    "        \"user_id\": int(user_id),  # OK\n",
    "        \"voucher_id\": None if voucher_id == None else int(voucher_id)    # OK\n",
    "    })\n",
    "    order_id += 1\n",
    "\n",
    "# write JSON to file\n",
    "with open('./output/orders.json', 'w', encoding=\"utf-8\") as f:\n",
    "    json.dump(orders,f,ensure_ascii=False)\n",
    "\n",
    "with open('./output/orderdetails.json', 'w', encoding=\"utf-8\") as f:\n",
    "    json.dump(order_details,f,ensure_ascii=False)\n",
    "\n",
    "print(\"Done\")\n"
   ]
  }
 ],
 "metadata": {
  "kernelspec": {
   "display_name": "engine",
   "language": "python",
   "name": "python3"
  },
  "language_info": {
   "codemirror_mode": {
    "name": "ipython",
    "version": 3
   },
   "file_extension": ".py",
   "mimetype": "text/x-python",
   "name": "python",
   "nbconvert_exporter": "python",
   "pygments_lexer": "ipython3",
   "version": "3.10.9"
  },
  "orig_nbformat": 4,
  "vscode": {
   "interpreter": {
    "hash": "ac31eb24eba35fa16259222880b9b51415e4b4b171384e267aa6317701a346bf"
   }
  }
 },
 "nbformat": 4,
 "nbformat_minor": 2
}
